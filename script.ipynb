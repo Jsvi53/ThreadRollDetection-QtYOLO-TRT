{
 "cells": [
  {
   "cell_type": "code",
   "execution_count": 11,
   "metadata": {},
   "outputs": [
    {
     "name": "stdout",
     "output_type": "stream",
     "text": [
      "摄像头0:\n",
      "  可用\n",
      "摄像头1:\n",
      "  可用\n",
      "摄像头2:\n",
      "  可用\n"
     ]
    }
   ],
   "source": [
    "# windows打印本地摄像头列表\n",
    "import cv2\n",
    "import os\n",
    "import numpy as np\n",
    "\n",
    "# 打印摄像头列表\n",
    "cam_list = []\n",
    "for i in range(10):\n",
    "    cap = cv2.VideoCapture(i)\n",
    "    if cap.isOpened():\n",
    "        cam_list.append(i)\n",
    "        print(\"摄像头{}:\".format(i))\n",
    "        print(\"  可用\")\n",
    "\n",
    "\n",
    "\n"
   ]
  },
  {
   "cell_type": "code",
   "execution_count": 12,
   "metadata": {},
   "outputs": [],
   "source": [
    "# 使用本地摄像头\n",
    "cap = cv2.VideoCapture(1)\n",
    "while True:\n",
    "    ret, frame = cap.read()\n",
    "    cv2.imshow('frame', frame)\n",
    "    if cv2.waitKey(1) & 0xFF == ord('q'):\n",
    "        break\n",
    "cv2.destroyAllWindows()"
   ]
  },
  {
   "cell_type": "code",
   "execution_count": 17,
   "metadata": {},
   "outputs": [
    {
     "name": "stdout",
     "output_type": "stream",
     "text": [
      "Help on built-in function imdecode:\n",
      "\n",
      "imdecode(...)\n",
      "    imdecode(buf, flags) -> retval\n",
      "    .   @brief Reads an image from a buffer in memory.\n",
      "    .   \n",
      "    .   The function imdecode reads an image from the specified buffer in the memory. If the buffer is too short or\n",
      "    .   contains invalid data, the function returns an empty matrix ( Mat::data==NULL ).\n",
      "    .   \n",
      "    .   See cv::imread for the list of supported formats and flags description.\n",
      "    .   \n",
      "    .   @note In the case of color images, the decoded images will have the channels stored in **B G R** order.\n",
      "    .   @param buf Input array or vector of bytes.\n",
      "    .   @param flags The same flags as in cv::imread, see cv::ImreadModes.\n",
      "\n",
      "None\n"
     ]
    }
   ],
   "source": [
    "print(help(cv2.imdecode))"
   ]
  },
  {
   "cell_type": "code",
   "execution_count": null,
   "metadata": {},
   "outputs": [],
   "source": [
    "import cv2\n",
    "import numpy\n",
    "import socket\n",
    "\n",
    "# 创建UDP套接字\n",
    "client = socket.socket(socket.AF_INET, socket.SOCK_DGRAM)\n",
    "client.connect(('127.0.0.1', 1031))\n",
    "\n",
    "def main():\n",
    "    try:\n",
    "        client.sendto(b'START_OF_IMAGE', ('127.0.0.1', 1031))\n",
    "        while True:\n",
    "            rece_data = []\n",
    "            while True:\n",
    "                # 接收数据，拼接成完整的图片, 标志位为b'END_OF_IMAGE'\n",
    "                data = client.recv(65535)\n",
    "                if not data:\n",
    "                    print(\"未接收到数据\")\n",
    "                    continue\n",
    "                if b'END_OF_IMAGE' in data:\n",
    "                    print(\"接收到结束标志\")\n",
    "                    break\n",
    "                else:\n",
    "                    rece_data.append(data)\n",
    "\n",
    "            # 调试信息\n",
    "            print(\"接收到的数据长度:\", len(rece_data))\n",
    "            if not rece_data:\n",
    "                print(\"未接收到任何图像数据\")\n",
    "                continue\n",
    "\n",
    "            client_data = b''.join(rece_data)  # 拼接成完整的图片\n",
    "            # 将接收到的字节数据转换为numpy数组\n",
    "            nparr = numpy.frombuffer(client_data, numpy.uint8)\n",
    "            # decode image\n",
    "            img = cv2.imdecode(nparr, cv2.IMREAD_COLOR)\n",
    "            if img is None:\n",
    "                print(\"图像解码失败\")\n",
    "            else:\n",
    "                cv2.imshow('server', img)\n",
    "\n",
    "            if cv2.waitKey(1) & 0xFF == ord('q'):\n",
    "                break\n",
    "    except Exception as e:\n",
    "        print(f\"发生异常: {e}\")\n",
    "    finally:\n",
    "        client.close()\n",
    "        cv2.destroyAllWindows()\n",
    "\n",
    "if __name__ == '__main__':\n",
    "    main()"
   ]
  }
 ],
 "metadata": {
  "kernelspec": {
   "display_name": "dset",
   "language": "python",
   "name": "python3"
  },
  "language_info": {
   "codemirror_mode": {
    "name": "ipython",
    "version": 3
   },
   "file_extension": ".py",
   "mimetype": "text/x-python",
   "name": "python",
   "nbconvert_exporter": "python",
   "pygments_lexer": "ipython3",
   "version": "3.8.19"
  }
 },
 "nbformat": 4,
 "nbformat_minor": 2
}
